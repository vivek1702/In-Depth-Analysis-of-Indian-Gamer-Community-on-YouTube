{
 "cells": [
  {
   "cell_type": "code",
   "execution_count": 21,
   "id": "c033e887",
   "metadata": {},
   "outputs": [],
   "source": [
    "from googleapiclient.discovery import build\n",
    "import pandas as pd\n",
    "import seaborn as sns\n",
    "import matplotlib.pyplot as plt\n",
    "from IPython.display import JSON\n",
    "import scipy as spy\n",
    "from dateutil import parser\n",
    "import isodate\n",
    "import re"
   ]
  },
  {
   "cell_type": "code",
   "execution_count": 2,
   "id": "be3c843c",
   "metadata": {},
   "outputs": [],
   "source": [
    "video_df = pd.read_csv(r'C:\\Users\\svive\\Youtube(Indian Gamers Data) analysis\\All_gamers_data/all_Gamers_data1.csv')"
   ]
  },
  {
   "cell_type": "code",
   "execution_count": 3,
   "id": "0e89a89e",
   "metadata": {},
   "outputs": [],
   "source": [
    "#changing data type to numeric\n",
    "numeric_col = ['viewCount', 'likeCount', 'commentCount', 'favouriteCount']\n",
    "video_df[numeric_col] = video_df[numeric_col].apply(pd.to_numeric, errors= 'coerce', axis=1)"
   ]
  },
  {
   "cell_type": "code",
   "execution_count": 4,
   "id": "04dfda68",
   "metadata": {},
   "outputs": [],
   "source": [
    "#changing data type to datetime\n",
    "video_df[['actualStartTime', 'actualEndTime']] = video_df[['actualStartTime', 'actualEndTime']].apply(pd.to_datetime)"
   ]
  },
  {
   "cell_type": "code",
   "execution_count": 5,
   "id": "8c489fa9",
   "metadata": {},
   "outputs": [],
   "source": [
    "#conerveting publish day in the week column\n",
    "video_df['publishedAt'] =  video_df['publishedAt'].apply(lambda x: parser.parse(x)) \n",
    "video_df['PublishDayName'] = video_df['publishedAt'].apply(lambda x: x.strftime('%A'))"
   ]
  },
  {
   "cell_type": "code",
   "execution_count": 6,
   "id": "ed99fbc9",
   "metadata": {},
   "outputs": [],
   "source": [
    "#convert durations to second\n",
    "video_df['durationSecs'] = video_df['duration'].apply(lambda x: isodate.parse_duration(x))\n",
    "video_df['durationSecs'] = video_df['durationSecs'].astype('timedelta64[s]')"
   ]
  },
  {
   "cell_type": "code",
   "execution_count": 7,
   "id": "4a184f68",
   "metadata": {},
   "outputs": [],
   "source": [
    "#title character length\n",
    "video_df['titleLength'] = video_df['title'].apply(lambda x: len(x))"
   ]
  },
  {
   "cell_type": "code",
   "execution_count": 8,
   "id": "2dff721f",
   "metadata": {},
   "outputs": [],
   "source": [
    "#saving the data after adding few columns\n",
    "video_df.to_csv(r'C:\\Users\\svive\\Youtube(Indian Gamers Data) analysis\\All_gamers_data/all_Gamers_data_after_pre_process2.csv')"
   ]
  },
  {
   "cell_type": "code",
   "execution_count": 9,
   "id": "fe900427",
   "metadata": {},
   "outputs": [
    {
     "data": {
      "text/html": [
       "<div>\n",
       "<style scoped>\n",
       "    .dataframe tbody tr th:only-of-type {\n",
       "        vertical-align: middle;\n",
       "    }\n",
       "\n",
       "    .dataframe tbody tr th {\n",
       "        vertical-align: top;\n",
       "    }\n",
       "\n",
       "    .dataframe thead th {\n",
       "        text-align: right;\n",
       "    }\n",
       "</style>\n",
       "<table border=\"1\" class=\"dataframe\">\n",
       "  <thead>\n",
       "    <tr style=\"text-align: right;\">\n",
       "      <th></th>\n",
       "      <th>Unnamed: 0</th>\n",
       "      <th>video_id</th>\n",
       "      <th>channelTitle</th>\n",
       "      <th>title</th>\n",
       "      <th>description</th>\n",
       "      <th>tags</th>\n",
       "      <th>publishedAt</th>\n",
       "      <th>liveBroadcastContent</th>\n",
       "      <th>viewCount</th>\n",
       "      <th>likeCount</th>\n",
       "      <th>...</th>\n",
       "      <th>commentCount</th>\n",
       "      <th>duration</th>\n",
       "      <th>definition</th>\n",
       "      <th>caption</th>\n",
       "      <th>actualStartTime</th>\n",
       "      <th>actualEndTime</th>\n",
       "      <th>concurrentViewers</th>\n",
       "      <th>PublishDayName</th>\n",
       "      <th>durationSecs</th>\n",
       "      <th>titleLength</th>\n",
       "    </tr>\n",
       "  </thead>\n",
       "  <tbody>\n",
       "    <tr>\n",
       "      <th>0</th>\n",
       "      <td>0</td>\n",
       "      <td>Dbck3q6cGTo</td>\n",
       "      <td>Chapati Hindustani Gamer</td>\n",
       "      <td>KITCHEN MEIN POPAT HO GEYA</td>\n",
       "      <td>KITCHEN MEIN POPAT HO GEYA . Toh bhai logo ple...</td>\n",
       "      <td>['chapati hindustani gamer', 'chapati', 'chapa...</td>\n",
       "      <td>2023-01-04 07:00:03+00:00</td>\n",
       "      <td>none</td>\n",
       "      <td>509977.0</td>\n",
       "      <td>24363.0</td>\n",
       "      <td>...</td>\n",
       "      <td>1354.0</td>\n",
       "      <td>PT11M55S</td>\n",
       "      <td>hd</td>\n",
       "      <td>False</td>\n",
       "      <td>NaT</td>\n",
       "      <td>NaT</td>\n",
       "      <td>NaN</td>\n",
       "      <td>Wednesday</td>\n",
       "      <td>715.0</td>\n",
       "      <td>26</td>\n",
       "    </tr>\n",
       "    <tr>\n",
       "      <th>1</th>\n",
       "      <td>1</td>\n",
       "      <td>Fh1J8Cf28zs</td>\n",
       "      <td>Chapati Hindustani Gamer</td>\n",
       "      <td>WINNIE THE POOH NE DARA DIYA 😲, ESCAPE KESSE K...</td>\n",
       "      <td>WINNIE THE POOH NE DARA DIYA 😲, ESCAPE KESSE K...</td>\n",
       "      <td>['roblox', 'gameplay', 'games', 'funny', 'funn...</td>\n",
       "      <td>2023-01-01 07:00:08+00:00</td>\n",
       "      <td>none</td>\n",
       "      <td>559023.0</td>\n",
       "      <td>35501.0</td>\n",
       "      <td>...</td>\n",
       "      <td>1328.0</td>\n",
       "      <td>PT16M29S</td>\n",
       "      <td>hd</td>\n",
       "      <td>False</td>\n",
       "      <td>NaT</td>\n",
       "      <td>NaT</td>\n",
       "      <td>NaN</td>\n",
       "      <td>Sunday</td>\n",
       "      <td>989.0</td>\n",
       "      <td>60</td>\n",
       "    </tr>\n",
       "    <tr>\n",
       "      <th>2</th>\n",
       "      <td>2</td>\n",
       "      <td>RzjVJcaidAg</td>\n",
       "      <td>Chapati Hindustani Gamer</td>\n",
       "      <td>I PAID MONEY TO WIN HYPIXEL SKYBLOCK 😂, IS THI...</td>\n",
       "      <td>I PAID MONEY TO WIN HYPIXEL SKYBLOCK 😂, IS THI...</td>\n",
       "      <td>['chapati', 'chapati hindustani gamer', 'chapa...</td>\n",
       "      <td>2022-12-29 08:00:08+00:00</td>\n",
       "      <td>none</td>\n",
       "      <td>694963.0</td>\n",
       "      <td>42985.0</td>\n",
       "      <td>...</td>\n",
       "      <td>795.0</td>\n",
       "      <td>PT8M25S</td>\n",
       "      <td>hd</td>\n",
       "      <td>False</td>\n",
       "      <td>NaT</td>\n",
       "      <td>NaT</td>\n",
       "      <td>NaN</td>\n",
       "      <td>Thursday</td>\n",
       "      <td>505.0</td>\n",
       "      <td>72</td>\n",
       "    </tr>\n",
       "    <tr>\n",
       "      <th>3</th>\n",
       "      <td>3</td>\n",
       "      <td>xCIKxTV2oQQ</td>\n",
       "      <td>Chapati Hindustani Gamer</td>\n",
       "      <td>😨 GTA 5 KI GHOST STORY #shorts</td>\n",
       "      <td>😨 GTA 5 KI GHOST STORY #shorts</td>\n",
       "      <td>['chapati', 'chapati hindustani gamer', 'techn...</td>\n",
       "      <td>2022-12-27 08:00:30+00:00</td>\n",
       "      <td>none</td>\n",
       "      <td>526408.0</td>\n",
       "      <td>54198.0</td>\n",
       "      <td>...</td>\n",
       "      <td>169.0</td>\n",
       "      <td>PT1M</td>\n",
       "      <td>hd</td>\n",
       "      <td>False</td>\n",
       "      <td>NaT</td>\n",
       "      <td>NaT</td>\n",
       "      <td>NaN</td>\n",
       "      <td>Tuesday</td>\n",
       "      <td>60.0</td>\n",
       "      <td>30</td>\n",
       "    </tr>\n",
       "    <tr>\n",
       "      <th>4</th>\n",
       "      <td>4</td>\n",
       "      <td>g1n-jN53Krs</td>\n",
       "      <td>Chapati Hindustani Gamer</td>\n",
       "      <td>I TRIED PAKISTANI SNACKS 😉 !!! KIYA YE SNACKS ...</td>\n",
       "      <td>I TRIED PAKISTANI SNACKS 😉 !!! KIYA YE SNACKS ...</td>\n",
       "      <td>NaN</td>\n",
       "      <td>2022-12-24 08:00:14+00:00</td>\n",
       "      <td>none</td>\n",
       "      <td>981393.0</td>\n",
       "      <td>46072.0</td>\n",
       "      <td>...</td>\n",
       "      <td>3832.0</td>\n",
       "      <td>PT10M39S</td>\n",
       "      <td>hd</td>\n",
       "      <td>False</td>\n",
       "      <td>NaT</td>\n",
       "      <td>NaT</td>\n",
       "      <td>NaN</td>\n",
       "      <td>Saturday</td>\n",
       "      <td>639.0</td>\n",
       "      <td>66</td>\n",
       "    </tr>\n",
       "  </tbody>\n",
       "</table>\n",
       "<p>5 rows × 21 columns</p>\n",
       "</div>"
      ],
      "text/plain": [
       "   Unnamed: 0     video_id              channelTitle  \\\n",
       "0           0  Dbck3q6cGTo  Chapati Hindustani Gamer   \n",
       "1           1  Fh1J8Cf28zs  Chapati Hindustani Gamer   \n",
       "2           2  RzjVJcaidAg  Chapati Hindustani Gamer   \n",
       "3           3  xCIKxTV2oQQ  Chapati Hindustani Gamer   \n",
       "4           4  g1n-jN53Krs  Chapati Hindustani Gamer   \n",
       "\n",
       "                                               title  \\\n",
       "0                         KITCHEN MEIN POPAT HO GEYA   \n",
       "1  WINNIE THE POOH NE DARA DIYA 😲, ESCAPE KESSE K...   \n",
       "2  I PAID MONEY TO WIN HYPIXEL SKYBLOCK 😂, IS THI...   \n",
       "3                     😨 GTA 5 KI GHOST STORY #shorts   \n",
       "4  I TRIED PAKISTANI SNACKS 😉 !!! KIYA YE SNACKS ...   \n",
       "\n",
       "                                         description  \\\n",
       "0  KITCHEN MEIN POPAT HO GEYA . Toh bhai logo ple...   \n",
       "1  WINNIE THE POOH NE DARA DIYA 😲, ESCAPE KESSE K...   \n",
       "2  I PAID MONEY TO WIN HYPIXEL SKYBLOCK 😂, IS THI...   \n",
       "3                     😨 GTA 5 KI GHOST STORY #shorts   \n",
       "4  I TRIED PAKISTANI SNACKS 😉 !!! KIYA YE SNACKS ...   \n",
       "\n",
       "                                                tags  \\\n",
       "0  ['chapati hindustani gamer', 'chapati', 'chapa...   \n",
       "1  ['roblox', 'gameplay', 'games', 'funny', 'funn...   \n",
       "2  ['chapati', 'chapati hindustani gamer', 'chapa...   \n",
       "3  ['chapati', 'chapati hindustani gamer', 'techn...   \n",
       "4                                                NaN   \n",
       "\n",
       "                publishedAt liveBroadcastContent  viewCount  likeCount  ...  \\\n",
       "0 2023-01-04 07:00:03+00:00                 none   509977.0    24363.0  ...   \n",
       "1 2023-01-01 07:00:08+00:00                 none   559023.0    35501.0  ...   \n",
       "2 2022-12-29 08:00:08+00:00                 none   694963.0    42985.0  ...   \n",
       "3 2022-12-27 08:00:30+00:00                 none   526408.0    54198.0  ...   \n",
       "4 2022-12-24 08:00:14+00:00                 none   981393.0    46072.0  ...   \n",
       "\n",
       "   commentCount  duration definition caption  actualStartTime actualEndTime  \\\n",
       "0        1354.0  PT11M55S         hd   False              NaT           NaT   \n",
       "1        1328.0  PT16M29S         hd   False              NaT           NaT   \n",
       "2         795.0   PT8M25S         hd   False              NaT           NaT   \n",
       "3         169.0      PT1M         hd   False              NaT           NaT   \n",
       "4        3832.0  PT10M39S         hd   False              NaT           NaT   \n",
       "\n",
       "  concurrentViewers  PublishDayName durationSecs  titleLength  \n",
       "0               NaN       Wednesday        715.0           26  \n",
       "1               NaN          Sunday        989.0           60  \n",
       "2               NaN        Thursday        505.0           72  \n",
       "3               NaN         Tuesday         60.0           30  \n",
       "4               NaN        Saturday        639.0           66  \n",
       "\n",
       "[5 rows x 21 columns]"
      ]
     },
     "execution_count": 9,
     "metadata": {},
     "output_type": "execute_result"
    }
   ],
   "source": [
    "video_df.head()"
   ]
  },
  {
   "cell_type": "code",
   "execution_count": 12,
   "id": "3dd44b05",
   "metadata": {},
   "outputs": [],
   "source": [
    "list_of_games = ['Garena FreeFire', 'Clash Squad', 'Minecraft', 'Grand Theft Auto 5', 'GTA V', 'FreeFire', 'GTA 5','Red Dead Redemption 2', \n",
    "'minecraft', 'Ranch Simulator', 'PUBG Mobile', 'freefire', 'Grand Theft Auto Vice City', 'Prince of Persia',\n",
    "'Dota 2','Apex Legends', 'pubg', 'Battlegrounds', 'Resident Evil Village', 'Cyberpunk', 'Spider-Man Miles Morales',\n",
    "'PUBG']"
   ]
  },
  {
   "cell_type": "code",
   "execution_count": 108,
   "id": "02cf57e1",
   "metadata": {},
   "outputs": [],
   "source": [
    "#change tags value to dict\n",
    "idx = video_df['tags'].to_dict()"
   ]
  },
  {
   "cell_type": "code",
   "execution_count": 111,
   "id": "1aebb820",
   "metadata": {},
   "outputs": [],
   "source": [
    "#change it to indexes\n",
    "idx1 = pd.Index(video_df['description'])"
   ]
  },
  {
   "cell_type": "code",
   "execution_count": 137,
   "id": "9b25b96a",
   "metadata": {},
   "outputs": [
    {
     "data": {
      "text/plain": [
       "0        kitchen mein popat ho geya . toh bhai logo ple...\n",
       "1        winnie the pooh ne dara diya 😲, escape kesse k...\n",
       "2        i paid money to win hypixel skyblock 😂, is thi...\n",
       "3                           😨 gta 5 ki ghost story #shorts\n",
       "4        i tried pakistani snacks 😉 !!! kiya ye snacks ...\n",
       "                               ...                        \n",
       "91892    in this gta 5 game play video my wife played g...\n",
       "91893    in this gta 5 gameplay we are going to kill mr...\n",
       "91894    in this gta 5 game play video we are going to ...\n",
       "91895    in this mission franklin and his best friend l...\n",
       "91896    in this gta 5 gameplay video we are going to r...\n",
       "Name: description, Length: 91897, dtype: object"
      ]
     },
     "execution_count": 137,
     "metadata": {},
     "output_type": "execute_result"
    }
   ],
   "source": [
    "idx1 = video_df['description'].str.lower()\n",
    "idx1"
   ]
  },
  {
   "cell_type": "code",
   "execution_count": 138,
   "id": "686ffb67",
   "metadata": {},
   "outputs": [
    {
     "ename": "TypeError",
     "evalue": "argument of type 'float' is not iterable",
     "output_type": "error",
     "traceback": [
      "\u001b[1;31m---------------------------------------------------------------------------\u001b[0m",
      "\u001b[1;31mTypeError\u001b[0m                                 Traceback (most recent call last)",
      "\u001b[1;32m~\\AppData\\Local\\Temp/ipykernel_12816/1300548293.py\u001b[0m in \u001b[0;36m<module>\u001b[1;34m\u001b[0m\n\u001b[1;32m----> 1\u001b[1;33m \u001b[0mvideo_df\u001b[0m\u001b[1;33m[\u001b[0m\u001b[1;34m'search_results'\u001b[0m\u001b[1;33m]\u001b[0m \u001b[1;33m=\u001b[0m \u001b[0midx1\u001b[0m\u001b[1;33m.\u001b[0m\u001b[0mapply\u001b[0m\u001b[1;33m(\u001b[0m\u001b[1;32mlambda\u001b[0m \u001b[0mx\u001b[0m\u001b[1;33m:\u001b[0m \u001b[1;34m' '\u001b[0m\u001b[1;33m.\u001b[0m\u001b[0mjoin\u001b[0m\u001b[1;33m(\u001b[0m\u001b[1;33m[\u001b[0m\u001b[0mterm\u001b[0m \u001b[1;32mfor\u001b[0m \u001b[0mterm\u001b[0m \u001b[1;32min\u001b[0m \u001b[0mlist_of_games\u001b[0m \u001b[1;32mif\u001b[0m \u001b[0mterm\u001b[0m \u001b[1;32min\u001b[0m \u001b[0mx\u001b[0m\u001b[1;33m]\u001b[0m\u001b[1;33m)\u001b[0m\u001b[1;33m)\u001b[0m\u001b[1;33m\u001b[0m\u001b[1;33m\u001b[0m\u001b[0m\n\u001b[0m",
      "\u001b[1;32m~\\anaconda3\\lib\\site-packages\\pandas\\core\\series.py\u001b[0m in \u001b[0;36mapply\u001b[1;34m(self, func, convert_dtype, args, **kwargs)\u001b[0m\n\u001b[0;32m   4355\u001b[0m         \u001b[0mdtype\u001b[0m\u001b[1;33m:\u001b[0m \u001b[0mfloat64\u001b[0m\u001b[1;33m\u001b[0m\u001b[1;33m\u001b[0m\u001b[0m\n\u001b[0;32m   4356\u001b[0m         \"\"\"\n\u001b[1;32m-> 4357\u001b[1;33m         \u001b[1;32mreturn\u001b[0m \u001b[0mSeriesApply\u001b[0m\u001b[1;33m(\u001b[0m\u001b[0mself\u001b[0m\u001b[1;33m,\u001b[0m \u001b[0mfunc\u001b[0m\u001b[1;33m,\u001b[0m \u001b[0mconvert_dtype\u001b[0m\u001b[1;33m,\u001b[0m \u001b[0margs\u001b[0m\u001b[1;33m,\u001b[0m \u001b[0mkwargs\u001b[0m\u001b[1;33m)\u001b[0m\u001b[1;33m.\u001b[0m\u001b[0mapply\u001b[0m\u001b[1;33m(\u001b[0m\u001b[1;33m)\u001b[0m\u001b[1;33m\u001b[0m\u001b[1;33m\u001b[0m\u001b[0m\n\u001b[0m\u001b[0;32m   4358\u001b[0m \u001b[1;33m\u001b[0m\u001b[0m\n\u001b[0;32m   4359\u001b[0m     def _reduce(\n",
      "\u001b[1;32m~\\anaconda3\\lib\\site-packages\\pandas\\core\\apply.py\u001b[0m in \u001b[0;36mapply\u001b[1;34m(self)\u001b[0m\n\u001b[0;32m   1041\u001b[0m             \u001b[1;32mreturn\u001b[0m \u001b[0mself\u001b[0m\u001b[1;33m.\u001b[0m\u001b[0mapply_str\u001b[0m\u001b[1;33m(\u001b[0m\u001b[1;33m)\u001b[0m\u001b[1;33m\u001b[0m\u001b[1;33m\u001b[0m\u001b[0m\n\u001b[0;32m   1042\u001b[0m \u001b[1;33m\u001b[0m\u001b[0m\n\u001b[1;32m-> 1043\u001b[1;33m         \u001b[1;32mreturn\u001b[0m \u001b[0mself\u001b[0m\u001b[1;33m.\u001b[0m\u001b[0mapply_standard\u001b[0m\u001b[1;33m(\u001b[0m\u001b[1;33m)\u001b[0m\u001b[1;33m\u001b[0m\u001b[1;33m\u001b[0m\u001b[0m\n\u001b[0m\u001b[0;32m   1044\u001b[0m \u001b[1;33m\u001b[0m\u001b[0m\n\u001b[0;32m   1045\u001b[0m     \u001b[1;32mdef\u001b[0m \u001b[0magg\u001b[0m\u001b[1;33m(\u001b[0m\u001b[0mself\u001b[0m\u001b[1;33m)\u001b[0m\u001b[1;33m:\u001b[0m\u001b[1;33m\u001b[0m\u001b[1;33m\u001b[0m\u001b[0m\n",
      "\u001b[1;32m~\\anaconda3\\lib\\site-packages\\pandas\\core\\apply.py\u001b[0m in \u001b[0;36mapply_standard\u001b[1;34m(self)\u001b[0m\n\u001b[0;32m   1096\u001b[0m                 \u001b[1;31m# List[Union[Callable[..., Any], str]]]]]\"; expected\u001b[0m\u001b[1;33m\u001b[0m\u001b[1;33m\u001b[0m\u001b[0m\n\u001b[0;32m   1097\u001b[0m                 \u001b[1;31m# \"Callable[[Any], Any]\"\u001b[0m\u001b[1;33m\u001b[0m\u001b[1;33m\u001b[0m\u001b[0m\n\u001b[1;32m-> 1098\u001b[1;33m                 mapped = lib.map_infer(\n\u001b[0m\u001b[0;32m   1099\u001b[0m                     \u001b[0mvalues\u001b[0m\u001b[1;33m,\u001b[0m\u001b[1;33m\u001b[0m\u001b[1;33m\u001b[0m\u001b[0m\n\u001b[0;32m   1100\u001b[0m                     \u001b[0mf\u001b[0m\u001b[1;33m,\u001b[0m  \u001b[1;31m# type: ignore[arg-type]\u001b[0m\u001b[1;33m\u001b[0m\u001b[1;33m\u001b[0m\u001b[0m\n",
      "\u001b[1;32m~\\anaconda3\\lib\\site-packages\\pandas\\_libs\\lib.pyx\u001b[0m in \u001b[0;36mpandas._libs.lib.map_infer\u001b[1;34m()\u001b[0m\n",
      "\u001b[1;32m~\\AppData\\Local\\Temp/ipykernel_12816/1300548293.py\u001b[0m in \u001b[0;36m<lambda>\u001b[1;34m(x)\u001b[0m\n\u001b[1;32m----> 1\u001b[1;33m \u001b[0mvideo_df\u001b[0m\u001b[1;33m[\u001b[0m\u001b[1;34m'search_results'\u001b[0m\u001b[1;33m]\u001b[0m \u001b[1;33m=\u001b[0m \u001b[0midx1\u001b[0m\u001b[1;33m.\u001b[0m\u001b[0mapply\u001b[0m\u001b[1;33m(\u001b[0m\u001b[1;32mlambda\u001b[0m \u001b[0mx\u001b[0m\u001b[1;33m:\u001b[0m \u001b[1;34m' '\u001b[0m\u001b[1;33m.\u001b[0m\u001b[0mjoin\u001b[0m\u001b[1;33m(\u001b[0m\u001b[1;33m[\u001b[0m\u001b[0mterm\u001b[0m \u001b[1;32mfor\u001b[0m \u001b[0mterm\u001b[0m \u001b[1;32min\u001b[0m \u001b[0mlist_of_games\u001b[0m \u001b[1;32mif\u001b[0m \u001b[0mterm\u001b[0m \u001b[1;32min\u001b[0m \u001b[0mx\u001b[0m\u001b[1;33m]\u001b[0m\u001b[1;33m)\u001b[0m\u001b[1;33m)\u001b[0m\u001b[1;33m\u001b[0m\u001b[1;33m\u001b[0m\u001b[0m\n\u001b[0m",
      "\u001b[1;32m~\\AppData\\Local\\Temp/ipykernel_12816/1300548293.py\u001b[0m in \u001b[0;36m<listcomp>\u001b[1;34m(.0)\u001b[0m\n\u001b[1;32m----> 1\u001b[1;33m \u001b[0mvideo_df\u001b[0m\u001b[1;33m[\u001b[0m\u001b[1;34m'search_results'\u001b[0m\u001b[1;33m]\u001b[0m \u001b[1;33m=\u001b[0m \u001b[0midx1\u001b[0m\u001b[1;33m.\u001b[0m\u001b[0mapply\u001b[0m\u001b[1;33m(\u001b[0m\u001b[1;32mlambda\u001b[0m \u001b[0mx\u001b[0m\u001b[1;33m:\u001b[0m \u001b[1;34m' '\u001b[0m\u001b[1;33m.\u001b[0m\u001b[0mjoin\u001b[0m\u001b[1;33m(\u001b[0m\u001b[1;33m[\u001b[0m\u001b[0mterm\u001b[0m \u001b[1;32mfor\u001b[0m \u001b[0mterm\u001b[0m \u001b[1;32min\u001b[0m \u001b[0mlist_of_games\u001b[0m \u001b[1;32mif\u001b[0m \u001b[0mterm\u001b[0m \u001b[1;32min\u001b[0m \u001b[0mx\u001b[0m\u001b[1;33m]\u001b[0m\u001b[1;33m)\u001b[0m\u001b[1;33m)\u001b[0m\u001b[1;33m\u001b[0m\u001b[1;33m\u001b[0m\u001b[0m\n\u001b[0m",
      "\u001b[1;31mTypeError\u001b[0m: argument of type 'float' is not iterable"
     ]
    }
   ],
   "source": [
    "\n",
    "video_df['search_results'] = idx1.apply(lambda x: ' '.join([term for term in list_of_games if term in x]))"
   ]
  },
  {
   "cell_type": "code",
   "execution_count": null,
   "id": "64717e2a",
   "metadata": {},
   "outputs": [],
   "source": []
  }
 ],
 "metadata": {
  "kernelspec": {
   "display_name": "Python 3 (ipykernel)",
   "language": "python",
   "name": "python3"
  },
  "language_info": {
   "codemirror_mode": {
    "name": "ipython",
    "version": 3
   },
   "file_extension": ".py",
   "mimetype": "text/x-python",
   "name": "python",
   "nbconvert_exporter": "python",
   "pygments_lexer": "ipython3",
   "version": "3.9.7"
  }
 },
 "nbformat": 4,
 "nbformat_minor": 5
}
